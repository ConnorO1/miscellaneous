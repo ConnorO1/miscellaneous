{
 "cells": [
  {
   "cell_type": "code",
   "execution_count": 35,
   "metadata": {},
   "outputs": [],
   "source": [
    "from sklearn.datasets import load_digits\n",
    "from sklearn.model_selection import train_test_split\n",
    "from sklearn.linear_model import LogisticRegression\n",
    "import numpy as np\n",
    "import pandas as pd\n",
    "import matplotlib.pyplot as plt\n",
    "\n",
    "\n",
    "X_digits, y_digits = load_digits(return_X_y = True)\n",
    "X_t, X_test, y_t, y_test = train_test_split(X_digits, y_digits, test_size = 0.2)\n",
    "X_train, X_valid, y_train, y_valid = train_test_split(X_t, y_t, test_size = 0.2)\n",
    "\n",
    "X_train = X_train/16\n",
    "X_test = X_test/16"
   ]
  },
  {
   "cell_type": "code",
   "execution_count": 36,
   "metadata": {},
   "outputs": [
    {
     "data": {
      "image/png": "[encoded data removed]",
      "text/plain": [
       "<Figure size 432x288 with 1 Axes>"
      ]
     },
     "metadata": {
      "needs_background": "light"
     },
     "output_type": "display_data"
    }
   ],
   "source": [
    "plt.imshow(X_train[0].reshape(8,8), cmap='Greys')\n",
    "plt.axis('off')\n",
    "plt.show()"
   ]
  },
  {
   "cell_type": "code",
   "execution_count": null,
   "metadata": {},
   "outputs": [],
   "source": []
  },
  {
   "cell_type": "markdown",
   "metadata": {},
   "source": [
    "Build a simple neural net"
   ]
  },
  {
   "cell_type": "code",
   "execution_count": 46,
   "metadata": {},
   "outputs": [
    {
     "name": "stdout",
     "output_type": "stream",
     "text": [
      "run_2021_06_29-14_38_30\n",
      "Epoch 1/50\n",
      "36/36 [==============================] - 1s 16ms/step - loss: 2.3972 - accuracy: 0.0940 - val_loss: 7.0521 - val_accuracy: 0.1007\n",
      "Epoch 2/50\n",
      "36/36 [==============================] - 0s 3ms/step - loss: 2.3349 - accuracy: 0.1041 - val_loss: 5.6408 - val_accuracy: 0.1250\n",
      "Epoch 3/50\n",
      "36/36 [==============================] - 0s 4ms/step - loss: 2.2968 - accuracy: 0.1467 - val_loss: 4.8396 - val_accuracy: 0.1632\n",
      "Epoch 4/50\n",
      "36/36 [==============================] - 0s 3ms/step - loss: 2.2655 - accuracy: 0.1862 - val_loss: 4.4013 - val_accuracy: 0.1771\n",
      "Epoch 5/50\n",
      "36/36 [==============================] - 0s 6ms/step - loss: 2.2346 - accuracy: 0.2227 - val_loss: 4.1320 - val_accuracy: 0.2257\n",
      "Epoch 6/50\n",
      "36/36 [==============================] - 0s 5ms/step - loss: 2.2176 - accuracy: 0.2386 - val_loss: 3.9619 - val_accuracy: 0.2396\n",
      "Epoch 7/50\n",
      "36/36 [==============================] - 0s 8ms/step - loss: 2.1945 - accuracy: 0.2528 - val_loss: 3.8902 - val_accuracy: 0.2500\n",
      "Epoch 8/50\n",
      "36/36 [==============================] - 0s 5ms/step - loss: 2.1677 - accuracy: 0.2829 - val_loss: 3.8200 - val_accuracy: 0.2778\n",
      "Epoch 9/50\n",
      "36/36 [==============================] - 0s 4ms/step - loss: 2.1377 - accuracy: 0.2904 - val_loss: 3.7299 - val_accuracy: 0.2882\n",
      "Epoch 10/50\n",
      "36/36 [==============================] - 0s 3ms/step - loss: 2.1048 - accuracy: 0.3164 - val_loss: 3.7549 - val_accuracy: 0.3021\n",
      "Epoch 11/50\n",
      "36/36 [==============================] - 0s 2ms/step - loss: 2.0755 - accuracy: 0.3148 - val_loss: 3.7811 - val_accuracy: 0.3056\n",
      "Epoch 12/50\n",
      "36/36 [==============================] - 0s 2ms/step - loss: 2.0347 - accuracy: 0.3407 - val_loss: 3.7481 - val_accuracy: 0.3264\n",
      "Epoch 13/50\n",
      "36/36 [==============================] - 0s 2ms/step - loss: 1.9861 - accuracy: 0.3945 - val_loss: 3.7094 - val_accuracy: 0.3229\n",
      "Epoch 14/50\n",
      "36/36 [==============================] - 0s 3ms/step - loss: 1.9554 - accuracy: 0.4193 - val_loss: 3.7505 - val_accuracy: 0.3472\n",
      "Epoch 15/50\n",
      "36/36 [==============================] - 0s 3ms/step - loss: 1.9178 - accuracy: 0.4259 - val_loss: 3.7553 - val_accuracy: 0.3819\n",
      "Epoch 16/50\n",
      "36/36 [==============================] - 0s 3ms/step - loss: 1.8690 - accuracy: 0.4303 - val_loss: 3.6038 - val_accuracy: 0.3924\n",
      "Epoch 17/50\n",
      "36/36 [==============================] - 0s 2ms/step - loss: 1.8264 - accuracy: 0.4695 - val_loss: 3.6452 - val_accuracy: 0.4236\n",
      "Epoch 18/50\n",
      "36/36 [==============================] - 0s 2ms/step - loss: 1.7807 - accuracy: 0.4959 - val_loss: 3.6547 - val_accuracy: 0.4514\n",
      "Epoch 19/50\n",
      "36/36 [==============================] - 0s 3ms/step - loss: 1.7292 - accuracy: 0.4974 - val_loss: 3.6735 - val_accuracy: 0.4618\n",
      "Epoch 20/50\n",
      "36/36 [==============================] - 0s 3ms/step - loss: 1.6641 - accuracy: 0.5417 - val_loss: 3.6679 - val_accuracy: 0.4653\n",
      "Epoch 21/50\n",
      "36/36 [==============================] - 0s 2ms/step - loss: 1.6134 - accuracy: 0.5590 - val_loss: 3.6596 - val_accuracy: 0.4826\n",
      "Epoch 22/50\n",
      "36/36 [==============================] - 0s 2ms/step - loss: 1.5442 - accuracy: 0.5704 - val_loss: 3.5596 - val_accuracy: 0.5069\n",
      "Epoch 23/50\n",
      "36/36 [==============================] - 0s 3ms/step - loss: 1.5033 - accuracy: 0.5842 - val_loss: 3.5484 - val_accuracy: 0.5243\n",
      "Epoch 24/50\n",
      "36/36 [==============================] - 0s 2ms/step - loss: 1.4416 - accuracy: 0.6074 - val_loss: 3.5600 - val_accuracy: 0.5382\n",
      "Epoch 25/50\n",
      "36/36 [==============================] - 0s 2ms/step - loss: 1.3875 - accuracy: 0.6297 - val_loss: 3.2880 - val_accuracy: 0.5625\n",
      "Epoch 26/50\n",
      "36/36 [==============================] - 0s 4ms/step - loss: 1.3541 - accuracy: 0.6325 - val_loss: 3.3802 - val_accuracy: 0.5660\n",
      "Epoch 27/50\n",
      "36/36 [==============================] - 0s 3ms/step - loss: 1.2828 - accuracy: 0.6643 - val_loss: 3.3423 - val_accuracy: 0.5833\n",
      "Epoch 28/50\n",
      "36/36 [==============================] - 0s 3ms/step - loss: 1.2250 - accuracy: 0.6872 - val_loss: 3.2917 - val_accuracy: 0.6181\n",
      "Epoch 29/50\n",
      "36/36 [==============================] - 0s 2ms/step - loss: 1.1885 - accuracy: 0.6987 - val_loss: 3.2479 - val_accuracy: 0.6424\n",
      "Epoch 30/50\n",
      "36/36 [==============================] - 0s 6ms/step - loss: 1.1154 - accuracy: 0.7300 - val_loss: 3.1831 - val_accuracy: 0.6701\n",
      "Epoch 31/50\n",
      "36/36 [==============================] - 0s 4ms/step - loss: 1.0481 - accuracy: 0.7609 - val_loss: 3.0992 - val_accuracy: 0.6979\n",
      "Epoch 32/50\n",
      "36/36 [==============================] - 0s 3ms/step - loss: 1.0173 - accuracy: 0.7842 - val_loss: 3.1051 - val_accuracy: 0.7083\n",
      "Epoch 33/50\n",
      "36/36 [==============================] - 0s 3ms/step - loss: 0.9936 - accuracy: 0.7663 - val_loss: 3.1272 - val_accuracy: 0.7465\n",
      "Epoch 34/50\n",
      "36/36 [==============================] - 0s 5ms/step - loss: 0.9281 - accuracy: 0.7995 - val_loss: 3.2160 - val_accuracy: 0.7396\n",
      "Epoch 35/50\n",
      "36/36 [==============================] - 0s 4ms/step - loss: 0.9031 - accuracy: 0.8103 - val_loss: 3.2622 - val_accuracy: 0.7396\n",
      "Epoch 36/50\n",
      "36/36 [==============================] - 0s 3ms/step - loss: 0.8905 - accuracy: 0.7880 - val_loss: 3.3158 - val_accuracy: 0.7639\n",
      "Epoch 37/50\n",
      "36/36 [==============================] - 0s 3ms/step - loss: 0.8339 - accuracy: 0.8249 - val_loss: 3.2593 - val_accuracy: 0.7743\n",
      "Epoch 38/50\n",
      "36/36 [==============================] - 0s 3ms/step - loss: 0.8027 - accuracy: 0.8201 - val_loss: 3.1519 - val_accuracy: 0.7743\n",
      "Epoch 39/50\n",
      "36/36 [==============================] - 0s 2ms/step - loss: 0.7855 - accuracy: 0.7988 - val_loss: 3.1980 - val_accuracy: 0.7847\n",
      "Epoch 40/50\n",
      "36/36 [==============================] - 0s 3ms/step - loss: 0.7300 - accuracy: 0.8453 - val_loss: 3.3387 - val_accuracy: 0.7812\n",
      "Epoch 41/50\n",
      "36/36 [==============================] - 0s 3ms/step - loss: 0.7060 - accuracy: 0.8306 - val_loss: 3.1979 - val_accuracy: 0.7986\n",
      "Epoch 42/50\n",
      "36/36 [==============================] - 0s 2ms/step - loss: 0.6557 - accuracy: 0.8411 - val_loss: 3.3089 - val_accuracy: 0.7917\n",
      "Epoch 43/50\n",
      "36/36 [==============================] - 0s 2ms/step - loss: 0.6460 - accuracy: 0.8478 - val_loss: 3.0794 - val_accuracy: 0.8229\n",
      "Epoch 44/50\n",
      "36/36 [==============================] - 0s 3ms/step - loss: 0.6129 - accuracy: 0.8614 - val_loss: 3.2639 - val_accuracy: 0.8056\n",
      "Epoch 45/50\n",
      "36/36 [==============================] - 0s 2ms/step - loss: 0.5970 - accuracy: 0.8743 - val_loss: 3.2506 - val_accuracy: 0.8056\n",
      "Epoch 46/50\n",
      "36/36 [==============================] - 0s 2ms/step - loss: 0.5655 - accuracy: 0.8638 - val_loss: 3.1231 - val_accuracy: 0.8125\n",
      "Epoch 47/50\n",
      "36/36 [==============================] - 0s 2ms/step - loss: 0.5590 - accuracy: 0.8709 - val_loss: 3.1869 - val_accuracy: 0.8125\n",
      "Epoch 48/50\n",
      "36/36 [==============================] - 0s 4ms/step - loss: 0.5523 - accuracy: 0.8715 - val_loss: 3.1389 - val_accuracy: 0.8125\n",
      "Epoch 49/50\n",
      "36/36 [==============================] - 0s 5ms/step - loss: 0.5365 - accuracy: 0.8697 - val_loss: 3.0596 - val_accuracy: 0.8160\n",
      "Epoch 50/50\n",
      "36/36 [==============================] - 0s 3ms/step - loss: 0.4840 - accuracy: 0.8974 - val_loss: 3.0655 - val_accuracy: 0.8229\n"
     ]
    }
   ],
   "source": [
    "import tensorflow as tf\n",
    "from tensorflow import keras\n",
    "import os\n",
    "\n",
    "inputs = keras.layers.Input(shape = X_train[0].shape[0])\n",
    "hidden_1 = keras.layers.Dense(20, activation=\"relu\")(inputs)\n",
    "hidden_2 =keras.layers.Dense(20, activation=\"relu\")(hidden_1)\n",
    "output = keras.layers.Dense(10, activation = \"softmax\")(hidden_2)\n",
    "\n",
    "model = keras.models.Model(inputs = [inputs], outputs = [output])\n",
    "\n",
    "model.compile(loss=\"sparse_categorical_crossentropy\", optimizer=\"sgd\", metrics=[\"accuracy\"])\n",
    "\n",
    "root_logdir = os.path.join(os.curdir, \"my_logs\")\n",
    "\n",
    "def get_run_logdir():\n",
    "    import time\n",
    "    run_id = time.strftime(\"run_%Y_%m_%d-%H_%M_%S\")\n",
    "    print(run_id)\n",
    "    return os.path.join(root_logdir, run_id)\n",
    "\n",
    "run_logdir = get_run_logdir()\n",
    "\n",
    "tensorboard_cb = keras.callbacks.TensorBoard(run_logdir)\n",
    "history = model.fit(X_train, y_train, epochs=50,\\\n",
    "                    validation_data=(X_valid, y_valid),\\\n",
    "                    callbacks=[tensorboard_cb])"
   ]
  },
  {
   "cell_type": "code",
   "execution_count": null,
   "metadata": {},
   "outputs": [],
   "source": []
  },
  {
   "cell_type": "code",
   "execution_count": null,
   "metadata": {},
   "outputs": [],
   "source": []
  }
 ],
 "metadata": {
  "kernelspec": {
   "display_name": "Python 3",
   "language": "python",
   "name": "python3"
  },
  "language_info": {
   "codemirror_mode": {
    "name": "ipython",
    "version": 3
   },
   "file_extension": ".py",
   "mimetype": "text/x-python",
   "name": "python",
   "nbconvert_exporter": "python",
   "pygments_lexer": "ipython3",
   "version": "3.8.3"
  }
 },
 "nbformat": 4,
 "nbformat_minor": 4
}
