{
 "cells": [
  {
   "cell_type": "code",
   "execution_count": 1,
   "metadata": {},
   "outputs": [],
   "source": [
    "from sklearn.datasets import load_digits\n",
    "from sklearn.model_selection import train_test_split\n",
    "from sklearn.linear_model import LogisticRegression\n",
    "import numpy as np\n",
    "import pandas as pd\n",
    "from sklearn.cluster import KMeans\n",
    "import matplotlib.pyplot as plt\n",
    "\n",
    "\n",
    "X_digits, y_digits = load_digits(return_X_y = True)\n",
    "X_train, X_test, y_train, y_test = train_test_split(X_digits, y_digits, test_size = 0.2)"
   ]
  },
  {
   "cell_type": "code",
   "execution_count": 6,
   "metadata": {},
   "outputs": [
    {
     "data": {
      "text/plain": [
       "array([ 433, 1059, 1099, 1205,  617,  393,   60,  616,  756,  573,  905,\n",
       "         36,  670, 1017,  967,  612,  654,  960,  211,  456, 1415,  304,\n",
       "        514,  286,  978,  845,  855,  972,  555, 1103,  858,  419, 1195,\n",
       "       1348,  559, 1218,  448,  356,  778,  209,  566,  603, 1215,  550,\n",
       "        990,  104,  705,  634,  693,  451], dtype=int64)"
      ]
     },
     "execution_count": 6,
     "metadata": {},
     "output_type": "execute_result"
    }
   ],
   "source": [
    "k = 50\n",
    "kmeans = KMeans(n_clusters = k)\n",
    "cluster_dist = kmeans.fit_transform(X_train, y_train)\n",
    "min_dist_indices = np.argmin(cluster_dist, axis=0)\n",
    "min_dist_indices"
   ]
  },
  {
   "cell_type": "code",
   "execution_count": 14,
   "metadata": {},
   "outputs": [
    {
     "data": {
      "image/png": "[encoded data removed]",
      "text/plain": [
       "<Figure size 576x576 with 50 Axes>"
      ]
     },
     "metadata": {
      "needs_background": "light"
     },
     "output_type": "display_data"
    }
   ],
   "source": [
    "representive_images = X_train[min_dist_indices]\n",
    "\n",
    "fig = plt.figure(figsize = (8, 8)) \n",
    "\n",
    "for i, img in enumerate(representive_images):\n",
    "    fig.add_subplot(10, 5, i+1)\n",
    "    plt.imshow(img.reshape(8, 8))\n",
    "    \n",
    "plt.show()"
   ]
  },
  {
   "cell_type": "code",
   "execution_count": 18,
   "metadata": {},
   "outputs": [
    {
     "data": {
      "text/plain": [
       "0.8888888888888888"
      ]
     },
     "execution_count": 18,
     "metadata": {},
     "output_type": "execute_result"
    }
   ],
   "source": [
    "representative_digits_array = np.array([6, 9, 8, 7, 0, 3, 4, 5, 6, 3, 2, 2, 1, 9, 2, 7, 2, 4, 1, 5, 9, 1, 8,\\\n",
    "                                        7, 1, 7, 0, 4, 5, 6, 2, 4, 5, 1, 7, 2, 8, 5, 2, 8, 5, 1, 3, 9, 0, 8, 4, 1, 7, 7])\n",
    "\n",
    "\n",
    "# train just based on this partially labelled set found using kmeans (suppose to b representative of clusters)\n",
    "log_reg = LogisticRegression(max_iter = 300)\n",
    "log_reg.fit(representive_images, representative_digits_array)\n",
    "log_reg.score(X_test, y_test)"
   ]
  },
  {
   "cell_type": "code",
   "execution_count": 25,
   "metadata": {},
   "outputs": [
    {
     "data": {
      "text/plain": [
       "0.9111111111111111"
      ]
     },
     "execution_count": 25,
     "metadata": {},
     "output_type": "execute_result"
    }
   ],
   "source": [
    "# try and propogate labels to all other instances in the same cluster\n",
    "\n",
    "propogated_labels = np.zeros(len(X_train))\n",
    "\n",
    "for i in range(k):\n",
    "    propogated_labels[kmeans.labels_ == i] = representative_digits_array[i]\n",
    "    \n",
    "log_reg = LogisticRegression(max_iter = 5000)\n",
    "log_reg.fit(X_train, propogated_labels)\n",
    "log_reg.score(X_test, y_test)"
   ]
  },
  {
   "cell_type": "code",
   "execution_count": 35,
   "metadata": {},
   "outputs": [
    {
     "data": {
      "text/plain": [
       "0.9144050104384134"
      ]
     },
     "execution_count": 35,
     "metadata": {},
     "output_type": "execute_result"
    }
   ],
   "source": [
    "# we can improve this by instaed propogateing the labels to only 20% of the closest cluster\n",
    "# instances, this will reduce number of mislabbelled samples (especially near boundary etc)\n",
    "\n",
    "# the below code will return the distance of each insance to its closest cluster\n",
    "X_cluster_dist = cluster_dist[np.arange(len(X_train)), kmeans.labels_]\n",
    "\n",
    "cluster_percent_threshold = 20\n",
    "\n",
    "for i in range(k):\n",
    "    in_cluster = (kmeans.labels_ == i)\n",
    "    X_in_cluster = X_cluster_dist[in_cluster]\n",
    "    threshold_level = np.percentile(X_in_cluster, cluster_percent_threshold)\n",
    "    above_cutoff = (X_cluster_dist > threshold_level)\n",
    "    X_cluster_dist[above_cutoff & in_cluster] = -1\n",
    "    \n",
    "partially_propogated = (X_cluster_dist != -1)\n",
    "X_projected = X_train[partially_propogated]\n",
    "y_projected = propogated_labels[partially_propogated]\n",
    "\n",
    "log_reg = LogisticRegression(max_iter = 5000)\n",
    "log_reg.fit(X_projected, y_projected)\n",
    "log_reg.score(X_train, y_train)"
   ]
  },
  {
   "cell_type": "markdown",
   "metadata": {},
   "source": []
  },
  {
   "cell_type": "code",
   "execution_count": null,
   "metadata": {},
   "outputs": [],
   "source": []
  }
 ],
 "metadata": {
  "kernelspec": {
   "display_name": "Python 3",
   "language": "python",
   "name": "python3"
  },
  "language_info": {
   "codemirror_mode": {
    "name": "ipython",
    "version": 3
   },
   "file_extension": ".py",
   "mimetype": "text/x-python",
   "name": "python",
   "nbconvert_exporter": "python",
   "pygments_lexer": "ipython3",
   "version": "3.8.5"
  }
 },
 "nbformat": 4,
 "nbformat_minor": 4
}
